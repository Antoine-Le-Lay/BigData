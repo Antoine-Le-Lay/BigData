{
 "cells": [
  {
   "cell_type": "markdown",
   "metadata": {},
   "source": [
    "<h3> 1.1 Importation des données</h3>"
   ]
  },
  {
   "cell_type": "code",
   "execution_count": 3,
   "metadata": {},
   "outputs": [],
   "source": [
    "import pandas as pd\n",
    "import numpy as np\n",
    "import matplotlib.pyplot as plt\n",
    "from sklearn.decomposition import PCA\n",
    "from sklearn.preprocessing import scale\n",
    "import seaborn as sns\n",
    "from sklearn.model_selection import train_test_split\n",
    "\n",
    "from sklearn.ensemble import RandomForestClassifier"
   ]
  },
  {
   "cell_type": "code",
   "execution_count": 4,
   "metadata": {},
   "outputs": [
    {
     "name": "stdout",
     "output_type": "stream",
     "text": [
      "(712045, 8)\n",
      "(712045, 8)\n",
      "(690210, 8)\n",
      "   store_ID  Day_of_week  Amount_customers  Store_open  Promo Student_holiday  \\\n",
      "0       625            3               641           1      1               0   \n",
      "1       293            2               877           1      1               0   \n",
      "2        39            4               561           1      1               0   \n",
      "3       676            4              1584           1      1               0   \n",
      "4       709            3              1477           1      1               0   \n",
      "\n",
      "   School_holiday  Target  \n",
      "0               0    7293  \n",
      "1               1    7060  \n",
      "2               0    4565  \n",
      "3               0    6380  \n",
      "4               0   11647  \n",
      "Unique types of variables:  [dtype('int64') dtype('O')]\n"
     ]
    }
   ],
   "source": [
    "# Import as a panda dataframe\n",
    "dataframe=pd.read_csv(\"public_dat/store_train.data\", sep=' ')\n",
    "print(dataframe.shape)\n",
    "target=pd.read_csv(\"public_dat/store_train.solution\", sep=' ')\n",
    "dataframe['Target']=target\n",
    "# Drop entries with missing values & first columd\n",
    "dataframe = dataframe.dropna()\n",
    "\n",
    "dataframe=dataframe.drop('Date', axis=1)\n",
    "print(dataframe.shape)\n",
    "dataframe=dataframe.drop(dataframe[dataframe['Student_holiday']== 'a'].index)\n",
    "dataframe=dataframe.drop(dataframe[dataframe['Student_holiday']== 'b'].index)\n",
    "dataframe=dataframe.drop(dataframe[dataframe['Student_holiday']== 'c'].index)\n",
    "print(dataframe.shape)\n",
    "# Display data\n",
    "print(dataframe.head())\n",
    "#print(target.head())\n",
    "target=dataframe['Target']\n",
    "dataframe=dataframe.drop('Target', axis=1)\n",
    "print('Unique types of variables: ', dataframe.dtypes.unique())"
   ]
  },
  {
   "cell_type": "markdown",
   "metadata": {},
   "source": [
    "<h3> 1.2 Separation du dataset en training et en test <h3>"
   ]
  },
  {
   "cell_type": "code",
   "execution_count": 5,
   "metadata": {},
   "outputs": [],
   "source": [
    "train_X, val_X, train_y, val_y = train_test_split(dataframe, target, random_state = 1)"
   ]
  },
  {
   "cell_type": "code",
   "execution_count": null,
   "metadata": {},
   "outputs": [],
   "source": [
    "rfc = RandomForestClassifier(n_estimators=10, criterion='entropy')\n",
    "rfc.fit(train_X,train_y)"
   ]
  },
  {
   "cell_type": "code",
   "execution_count": null,
   "metadata": {},
   "outputs": [],
   "source": []
  }
 ],
 "metadata": {
  "kernelspec": {
   "display_name": "Python 3",
   "language": "python",
   "name": "python3"
  },
  "language_info": {
   "codemirror_mode": {
    "name": "ipython",
    "version": 3
   },
   "file_extension": ".py",
   "mimetype": "text/x-python",
   "name": "python",
   "nbconvert_exporter": "python",
   "pygments_lexer": "ipython3",
   "version": "3.7.4"
  }
 },
 "nbformat": 4,
 "nbformat_minor": 2
}
